{
 "cells": [
  {
   "cell_type": "code",
   "execution_count": 1,
   "metadata": {
    "collapsed": true
   },
   "outputs": [],
   "source": [
    "import numpy as np\n",
    "import math\n",
    "import sys\n",
    "from collections import Counter\n",
    "from shapely.geometry import Point\n",
    "from shapely.geometry.polygon import Polygon\n",
    "from PIL import Image,ImageDraw\n",
    "import cv2"
   ]
  },
  {
   "cell_type": "code",
   "execution_count": 2,
   "metadata": {
    "collapsed": true
   },
   "outputs": [],
   "source": [
    "def build_dict(detection_name,fN,angles):\n",
    "    d = {}\n",
    "    d[fN] = {}\n",
    "\n",
    "    with open(detection_name,'r') as file:\n",
    "        for i,line in enumerate(file):\n",
    "            line = line.strip()\n",
    "\n",
    "            if 'tiff' in line:\n",
    "\n",
    "                fN = line[:-5]\n",
    "#                 print('fN',fN)\n",
    "            elif 'angle' in line:\n",
    "                angle = line.split()[1]\n",
    "                angles.add(int(angle))\n",
    "#                 print('angle',angle)\n",
    "            else:\n",
    "                if len(line.split())<2:\n",
    "#                     print('only one',line.split(),len(line.split()),i)\n",
    "                    n = int(line)\n",
    "                    continue\n",
    "                else:\n",
    "#                     print(d)\n",
    "                    if angle not in d[fN].keys():\n",
    "                        d[fN][angle] = []\n",
    "                    d[fN][angle].append(line.split())\n",
    "    return d,angles\n",
    "\n",
    "            \n",
    "# d"
   ]
  },
  {
   "cell_type": "code",
   "execution_count": 3,
   "metadata": {
    "collapsed": true
   },
   "outputs": [],
   "source": [
    "def coord_words(fN,ids):\n",
    "    #directory with bounding boxes(new ones cos we're only checking for valid)\n",
    "    coords_old = np.load('../../torch-phoc/mudit/training_new/'+fN+'.npy')\n",
    "    #directory with npy file with before,after,ground truth words\n",
    "    words_all = np.load('../../torch-phoc/mudit/training_mudit/'+fN+'.npy')\n",
    "    words_old = words_all.T[1]\n",
    "    gt = words_all.T[2]\n",
    "#     print(zip(words_old,gt))\n",
    "    return coords_old[ids],words_old,gt"
   ]
  },
  {
   "cell_type": "code",
   "execution_count": 4,
   "metadata": {
    "collapsed": true
   },
   "outputs": [],
   "source": [
    "def find_closest_angle(angle,angles):\n",
    "    m = sys.maxint\n",
    "    closest = 0\n",
    "    angle = abs(angle)\n",
    "    for a in angles:\n",
    "        if abs(a-angle)<m:\n",
    "            m = abs(a-angle)\n",
    "            closest = a\n",
    "    return closest"
   ]
  },
  {
   "cell_type": "code",
   "execution_count": 5,
   "metadata": {
    "collapsed": true
   },
   "outputs": [],
   "source": [
    "def find_slope(p1,p2):\n",
    "    x1,y1 = p1\n",
    "    x2,y2 = p2\n",
    "    if x2-x1 == 0:\n",
    "#         print('0',p1,p2)\n",
    "        return 90\n",
    "    angle = np.rad2deg(np.arctan((y2-y1)/(x2-x1)))\n",
    "    return angle"
   ]
  },
  {
   "cell_type": "code",
   "execution_count": 6,
   "metadata": {
    "collapsed": true
   },
   "outputs": [],
   "source": [
    "def compute_angle(coords):\n",
    "    bl,br,tr,tl = coords\n",
    "    d1 = find_dist(bl,br)\n",
    "#     print('d1',d1)\n",
    "    d2 = find_dist(br,tr)\n",
    "#     print('d2',d2)\n",
    "    d3 = find_dist(tr,tl)\n",
    "    d4 = find_dist(tl,bl)\n",
    "#     print('d3,d4',d3,d4)\n",
    "    if(d1!=d3 or d2!=d4):\n",
    "#         print('not equal',d1,d2,d3,d4)\n",
    "        pass\n",
    "        #not too different\n",
    "    if d1>d2:\n",
    "        p1 = bl\n",
    "        p2 = br\n",
    "    else:\n",
    "        p1 = br\n",
    "        p2 = tr\n",
    "    slope = find_slope(p1,p2)\n",
    "    return slope"
   ]
  },
  {
   "cell_type": "code",
   "execution_count": 7,
   "metadata": {
    "collapsed": true
   },
   "outputs": [],
   "source": [
    "def find_dist(p1,p2):\n",
    "    x1,y1 = p1\n",
    "    x2,y2 = p2\n",
    "    return math.hypot(x2-x1,y2-y1)"
   ]
  },
  {
   "cell_type": "code",
   "execution_count": 8,
   "metadata": {
    "collapsed": true
   },
   "outputs": [],
   "source": [
    "def find_points_start(point,ind,string,angle,d1,d2):\n",
    "    m = np.tan(np.deg2rad(angle))\n",
    "    x,y = point\n",
    "#     print('dist',(float(ind)/len(string))*d1,string,ind,d1,d2)\n",
    "    blx = x+((float(ind)/len(string))*d1)*(np.sqrt(1/(1+m**2)))\n",
    "    bly = y+((float(ind)/len(string))*d1)*m*(np.sqrt(1/(1+m**2)))\n",
    "    brx = x+((float(ind+1)/len(string))*d1)*(np.sqrt(1/(1+m**2)))\n",
    "    bry = y+((float(ind+1)/len(string))*d1)*m*(np.sqrt(1/(1+m**2)))\n",
    "    m2 = np.tan(np.deg2rad(angle+90))\n",
    "    trx = brx-d2*(np.sqrt(1/(1+m2**2)))\n",
    "    try_ = bry-d2*m2*(np.sqrt(1/(1+m2**2)))     \n",
    "    tlx = blx-d2*(np.sqrt(1/(1+m2**2)))\n",
    "    tly = bly-d2*m2*(np.sqrt(1/(1+m2**2)))\n",
    "    return [(blx,bly),(brx,bry),(trx,try_),(tlx,tly)]"
   ]
  },
  {
   "cell_type": "code",
   "execution_count": 9,
   "metadata": {
    "collapsed": true
   },
   "outputs": [],
   "source": [
    "def find_char(coords,string,c,d,angle):\n",
    "    count = c[char]\n",
    "    new_coords = [(c1,c2) for [c1,c2] in coords]\n",
    "#     new_coords = [(0,0),(2,0),(2,2),(0,2)]\n",
    "    poly = Polygon(new_coords)\n",
    "    vals = []\n",
    "    new_points = None\n",
    "    for angle in angles:\n",
    "        points = d[fN][str(angle)]\n",
    "        for p in points:\n",
    "            blx = float(p[0])\n",
    "            bly = float(p[1])\n",
    "            w = float(p[2])\n",
    "            h = float(p[3])\n",
    "            m = np.tan(np.deg2rad(angle))\n",
    "            brx = blx+w*(np.sqrt(1/(1+m**2)))\n",
    "            bry = bly+w*m*(np.sqrt(1/(1+m**2)))\n",
    "            m2 = np.tan(np.deg2rad(angle+90))\n",
    "            trx = brx+h*(np.sqrt(1/(1+m2**2)))\n",
    "            try_ = bry+h*m2*(np.sqrt(1/(1+m2**2)))     \n",
    "            tlx = blx+h*(np.sqrt(1/(1+m2**2)))\n",
    "            tly = bly+h*m2*(np.sqrt(1/(1+m2**2)))\n",
    "            all_ps = [(blx,bly),(brx,bry),(trx,try_),(tlx,tly)]\n",
    "#             if(not(poly.contains(Point[all_ps[0]]) or poly.contains(Point[all_ps[1]]) or poly.contains(Point[all_ps[2]]) or poly.contains(Point[all_ps[3]]))):\n",
    "                \n",
    "                    \n",
    "            for all_p in all_ps:\n",
    "                point = Point(all_p)\n",
    "#     #     point = Point(0,1)\n",
    "                if(poly.contains(point)):\n",
    "                    count-=1\n",
    "#                     print('found',count)\n",
    "                    vals.append(all_p)\n",
    "    if len(vals)>0:\n",
    "        if count<=0:\n",
    "            return []\n",
    "    else:\n",
    "            vals = sorted(vals)\n",
    "            start = 0\n",
    "            for i in range(len(vals)):\n",
    "                ind = string[start:].index(char)\n",
    "                start = ind\n",
    "            while(count>0):\n",
    "                ind = string[start:].index(char)\n",
    "                start = ind\n",
    "                bl,br,tr,tl = coords\n",
    "                d1 = find_dist(bl,br)\n",
    "            #     print('d1',d1)\n",
    "                d2 = find_dist(br,tr)\n",
    "                count-=1\n",
    "                if d1>d2:\n",
    "                    new_points = find_points_start(bl,ind,string,find_slope(bl,br),d1,d2)\n",
    "#                     print(new_points)\n",
    "                else:\n",
    "                    new_points = find_points_start(br,ind,string,find_slope(br,tr),d2,d1)\n",
    "#                     print(new_points)\n",
    "    return new_points\n",
    "        \n",
    "#                     print(poly.contains(point),new_coords,all_p,angle)\n",
    "#     print(count,coords,angle)"
   ]
  },
  {
   "cell_type": "code",
   "execution_count": 10,
   "metadata": {
    "collapsed": true
   },
   "outputs": [],
   "source": [
    "def return_points(fN,ids):\n",
    "    coords_old,words_old,gt = coord_words(fN,ids)\n",
    "    cor = 0\n",
    "    wr = 0\n",
    "    all_points = []\n",
    "    for i,coords in enumerate(coords_old):\n",
    "#         print(i)\n",
    "        a = compute_angle(coords)\n",
    "        angle = find_closest_angle(a,angles)\n",
    "        word = words_old[i].lower()\n",
    "        gt_i = gt[i].lower()\n",
    "        old_coords = coords\n",
    "        if word==gt_i[1:] or word==gt_i[:-1] or word==gt_i:\n",
    "            c = Counter(word)\n",
    "#             if gt_i == 'osage':\n",
    "#                 print('osagooooooooo',coords)\n",
    "            if c.has_key(char):\n",
    "    #             print word,gt_i,angle\n",
    "#                 print('s',gt_i)\n",
    "                new_points = find_char(old_coords,gt_i,c,d,angle)\n",
    "                if(new_points):\n",
    "#                     if gt_i=='osage':\n",
    "#                         print('osagooooo!',old_coords)\n",
    "                    all_points.append((new_points,gt_i,old_coords))\n",
    "            cor+=1\n",
    "        else:\n",
    "            wr+=1\n",
    "    return all_points\n",
    "# print(cor,wr)"
   ]
  },
  {
   "cell_type": "code",
   "execution_count": 11,
   "metadata": {
    "collapsed": true
   },
   "outputs": [],
   "source": [
    "def save_map(fN,all_points,char):\n",
    "    map_name='../'+fN+'_s.tiff'\n",
    "    im = Image.open(map_name)\n",
    "    img = np.array(im)\n",
    "#     print(all_points)\n",
    "    for points,string,coords in all_points:\n",
    "    #             print(coords)\n",
    "    #             print(coord[0],'0',coord[1])\n",
    "            points_all = [[int(p[0]),int(p[1])] for p in points]\n",
    "            points_all = np.array(points_all,dtype='int32')\n",
    "    #         points_all = points_all.reshape((-1,1,2))\n",
    "#             print(points_all,string,coords)\n",
    "    #         if string=='osage':\n",
    "    #             print('neoshoooooo',coords)\n",
    "    #             cv2.polylines(img,np.int32([points]),True,(0,0,255),10)\n",
    "    #             cv2.polylines(img,np.int32([coords]),True,(255,0,0),10)\n",
    "    #         else:\n",
    "    #             pass\n",
    "            cv2.polylines(img,np.int32([points]),True,(0,255,0),10)\n",
    "    #         cv2.polylines(img,np.int32([coords]),True,(255,0,0),10)\n",
    "    #     If each character has to be saved:\n",
    "    im = Image.fromarray(img)\n",
    "    im.save(char+fN+'.tiff')"
   ]
  },
  {
   "cell_type": "code",
   "execution_count": 12,
   "metadata": {
    "collapsed": true
   },
   "outputs": [],
   "source": [
    "#give all characters\n",
    "all_chars = ['s','e']\n",
    "#give all file names/ crawl directory for file names of mas\n",
    "fns = ['D0090-5242001','D0090-5242002']\n",
    "for fN in fns:\n",
    "    for char in all_chars:\n",
    "        angles = set()\n",
    "        #the word-det files with output from char frcnn\n",
    "        d,angles = build_dict('words-det-'+fN+'-01-'+char+'.txt',fN,angles)\n",
    "        #images to extend info with ids, comment not used for now\n",
    "        extend = np.load('../../torch-phoc/mudit/training_images/image_dir_'+fN+'.npy')\n",
    "        # ids = extend[0]\n",
    "        #we just use all the valid new images\n",
    "        ids = [i for i in range(469)] \n",
    "        all_points = return_points(fN,ids)\n",
    "        #saves in same directory, our final output in npy, change name if required\n",
    "        np.save(char+fN+'allpoints.npy',np.array(all_points))\n",
    "        save_map(fN,all_points,char)"
   ]
  },
  {
   "cell_type": "code",
   "execution_count": 13,
   "metadata": {
    "collapsed": true
   },
   "outputs": [],
   "source": [
    "pass\n",
    "# im = Image.open('../'+fN+'_s.tiff')\n",
    "# imArray = np.asarray(im)\n",
    "# for p in all_points[:1]:\n",
    "    \n",
    "#     maskIm = Image.new('L',(imArray.shape[1],imArray.shape[0]),0)\n",
    "#     ImageDraw.Draw(maskIm).polygon(p,outline=1,fill=1)\n",
    "#     mask = np.array(maskIm)\n",
    "#     newIm = np.empty(imArray.shape,dtype='uint8')\n",
    "#     newIm[:,:,:3] = imArray[:,:,:3]\n",
    "#     newIm[:,:,3] = mask*255\n",
    "#     newImg = Image.fromarray(newIm,'RGBA')\n",
    "#     newImg.save('first.tiff')"
   ]
  },
  {
   "cell_type": "code",
   "execution_count": 14,
   "metadata": {},
   "outputs": [
    {
     "name": "stdout",
     "output_type": "stream",
     "text": [
      "(set([0, 70, 40, 10, 80, 50, 20, 90, 60, 30]), ['D0090-5242002'])\n"
     ]
    }
   ],
   "source": [
    "print(angles,d.keys())"
   ]
  }
 ],
 "metadata": {
  "kernelspec": {
   "display_name": "Python 2",
   "language": "python",
   "name": "python2"
  },
  "language_info": {
   "codemirror_mode": {
    "name": "ipython",
    "version": 2
   },
   "file_extension": ".py",
   "mimetype": "text/x-python",
   "name": "python",
   "nbconvert_exporter": "python",
   "pygments_lexer": "ipython2",
   "version": "2.7.14"
  }
 },
 "nbformat": 4,
 "nbformat_minor": 2
}
